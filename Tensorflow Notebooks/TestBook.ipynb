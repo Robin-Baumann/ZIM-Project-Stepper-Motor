{
 "cells": [
  {
   "cell_type": "markdown",
   "metadata": {},
   "source": [
    "# TestBook"
   ]
  },
  {
   "cell_type": "code",
   "execution_count": 10,
   "metadata": {},
   "outputs": [
    {
     "name": "stdout",
     "output_type": "stream",
     "text": [
      "(60000, 28, 28)\n",
      "(60000,)\n",
      "Epoch 1/3\n",
      "1875/1875 [==============================] - 14s 7ms/step - loss: 0.7291 - accuracy: 0.7573 - val_loss: 0.2246 - val_accuracy: 0.9351\n",
      "Epoch 2/3\n",
      "1875/1875 [==============================] - 11s 6ms/step - loss: 0.2262 - accuracy: 0.9319 - val_loss: 0.1838 - val_accuracy: 0.9434\n",
      "Epoch 3/3\n",
      "1875/1875 [==============================] - 10s 6ms/step - loss: 0.1623 - accuracy: 0.9520 - val_loss: 0.1083 - val_accuracy: 0.9668\n"
     ]
    },
    {
     "data": {
      "text/plain": [
       "<tensorflow.python.keras.callbacks.History at 0x2346942c250>"
      ]
     },
     "execution_count": 10,
     "metadata": {},
     "output_type": "execute_result"
    }
   ],
   "source": [
    "import tensorflow as tf\n",
    "from tensorflow.keras.models import Sequential\n",
    "from tensorflow.keras.layers import Dense, Dropout, LSTM\n",
    "\n",
    "mnist = tf.keras.datasets.mnist\n",
    "(x_train, y_train),(x_test, y_test) = mnist.load_data()\n",
    "\n",
    "x_train = x_train/255.0\n",
    "x_test = x_test/255.0\n",
    "\n",
    "print(x_train.shape)\n",
    "print(y_train.shape)\n",
    "\n",
    "model = Sequential()\n",
    "model.add(LSTM(32, input_shape=(x_train.shape[1:]), activation='relu', return_sequences=True))\n",
    "model.add(Dropout(0.2))\n",
    "model.add(LSTM(32, activation='relu'))\n",
    "model.add(Dropout(0.1))\n",
    "model.add(Dense(10, activation='softmax'))\n",
    "\n",
    "opt = tf.keras.optimizers.Adam(learning_rate=0.001, decay=1e-6)\n",
    "\n",
    "model.compile(\n",
    "    loss='sparse_categorical_crossentropy',\n",
    "    optimizer=opt,\n",
    "    metrics=['accuracy'],\n",
    ")\n",
    "\n",
    "model.fit(x_train,\n",
    "          y_train,\n",
    "          epochs=3,\n",
    "          validation_data=(x_test, y_test))"
   ]
  },
  {
   "cell_type": "code",
   "execution_count": null,
   "metadata": {},
   "outputs": [],
   "source": [
    "# init vector and order\n",
    "learning_rates = [1e-8]\n",
    "order = -1\n",
    "\n",
    "# append Learing rates from LEARNING_RATE to 10^2\n",
    "while learning_rates[-1] < 10:\n",
    "    order += 1\n",
    "    for scale in range(2,12,2):\n",
    "        learning_rates.append(learning_rates[0] * 10**order * scale)"
   ]
  },
  {
   "cell_type": "code",
   "execution_count": 1,
   "metadata": {},
   "outputs": [
    {
     "name": "stdout",
     "output_type": "stream",
     "text": [
      "[0.         0.03144737 0.06289475 0.09434212 0.1257895  0.15723687\n",
      " 0.18868424 0.22013162 0.25157899 0.28302637 0.31447374 0.34592111\n",
      " 0.37736849 0.40881586 0.44026323 0.47171061]\n",
      "0.0\n",
      "0.03144737390980774\n",
      "0.06289474781961547\n",
      "0.0943421217294232\n",
      "0.12578949563923095\n",
      "0.1572368695490387\n",
      "0.1886842434588464\n",
      "0.22013161736865416\n",
      "0.2515789912784619\n",
      "0.2830263651882697\n",
      "0.3144737390980774\n",
      "0.34592111300788514\n",
      "0.3773684869176928\n",
      "0.4088158608275006\n",
      "0.44026323473730833\n",
      "0.47171060864711606\n"
     ]
    }
   ],
   "source": [
    "import numpy as np\n",
    "\n",
    "sample_size = 1000\n",
    "\n",
    "time = np.linspace(0, 10*np.pi, num=sample_size)\n",
    "\n",
    "print(time[0:16])\n",
    "for  i in range(16):\n",
    "    print(i*10*np.pi/(sample_size-1))"
   ]
  },
  {
   "cell_type": "code",
   "execution_count": 4,
   "metadata": {},
   "outputs": [
    {
     "name": "stdout",
     "output_type": "stream",
     "text": [
      "[2 3 4]\n",
      "5\n"
     ]
    }
   ],
   "source": [
    "import numpy as np\n",
    "\n",
    "input = np.arange(10)\n",
    "\n",
    "i = 2\n",
    "WINDOW_SIZE = 3\n",
    "\n",
    "print(input[i : i+WINDOW_SIZE])\n",
    "print(input[i+WINDOW_SIZE])\n",
    "\n"
   ]
  }
 ],
 "metadata": {
  "interpreter": {
   "hash": "ac59ebe37160ed0dfa835113d9b8498d9f09ceb179beaac4002f036b9467c963"
  },
  "kernelspec": {
   "display_name": "Python 3.9.7 64-bit",
   "name": "python3"
  },
  "language_info": {
   "codemirror_mode": {
    "name": "ipython",
    "version": 3
   },
   "file_extension": ".py",
   "mimetype": "text/x-python",
   "name": "python",
   "nbconvert_exporter": "python",
   "pygments_lexer": "ipython3",
   "version": "3.9.7"
  },
  "orig_nbformat": 4
 },
 "nbformat": 4,
 "nbformat_minor": 2
}
